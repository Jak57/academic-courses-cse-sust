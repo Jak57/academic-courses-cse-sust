{
  "nbformat": 4,
  "nbformat_minor": 0,
  "metadata": {
    "colab": {
      "name": "task3_line_coding.ipynb",
      "provenance": []
    },
    "kernelspec": {
      "name": "python3",
      "display_name": "Python 3"
    },
    "language_info": {
      "name": "python"
    }
  },
  "cells": [
    {
      "cell_type": "code",
      "execution_count": 11,
      "metadata": {
        "colab": {
          "base_uri": "https://localhost:8080/",
          "height": 296
        },
        "id": "N2EkQLIfUPTb",
        "outputId": "1a67a03f-f1cd-45e2-d90a-365e481438fc"
      },
      "outputs": [
        {
          "output_type": "execute_result",
          "data": {
            "text/plain": [
              "[<matplotlib.lines.Line2D at 0x7fa6621e5810>]"
            ]
          },
          "metadata": {},
          "execution_count": 11
        },
        {
          "output_type": "display_data",
          "data": {
            "text/plain": [
              "<Figure size 432x288 with 1 Axes>"
            ],
            "image/png": "[encoded data removed]"
          },
          "metadata": {
            "needs_background": "light"
          }
        }
      ],
      "source": [
        "\"\"\"\n",
        "Name: Jakir Hasan\n",
        "Registration no: 2018331057\n",
        "\"\"\"\n",
        "\n",
        "\"\"\"\n",
        "Program to simulate the digital to digital conversion techniques NRZ, NRZ-L,\n",
        "Manchester and Differential Manchester\n",
        "\"\"\"\n",
        "\n",
        "#######\n",
        "# NRZ\n",
        "#######\n",
        "\n",
        "import matplotlib.pyplot as plt\n",
        "\n",
        "# bit_stream (str): binary bitstream for transmission\n",
        "bit_stream = \"101100\"\n",
        "# original_data (list of int)\n",
        "original_data = []\n",
        "\n",
        "# 0 indicate zero voltage and 1 indicate positive voltage\n",
        "# converting each item of bit_stream to int\n",
        "for i in range(len(bit_stream)):\n",
        "  original_data.append(int(bit_stream[i]))\n",
        "\n",
        "data = original_data.copy()\n",
        "# inserting 0 at position 0 for making the plot nicer\n",
        "data.insert(0, 0)\n",
        "\n",
        "plt.xlabel('time')\n",
        "plt.ylabel('Unipolar-NRZ')\n",
        "plt.plot(data, color='red', drawstyle='steps-pre')"
      ]
    },
    {
      "cell_type": "code",
      "source": [
        "########\n",
        "# Polor NRZ-L\n",
        "########\n",
        "\n",
        "data = original_data.copy()\n",
        "\n",
        "# 0 indicate negative voltage and 1 indicate positive voltage\n",
        "# changing 0 to -1\n",
        "for i in range(len(data)):\n",
        "  if (data[i] == 0):\n",
        "    data[i] = -1\n",
        "\n",
        "# inserting 0 at position zero\n",
        "data.insert(0, 0)\n",
        "\n",
        "plt.xlabel('time')\n",
        "plt.ylabel('Polar NRZ-L')\n",
        "plt.plot(data, color='green', drawstyle='steps-pre')"
      ],
      "metadata": {
        "colab": {
          "base_uri": "https://localhost:8080/",
          "height": 296
        },
        "id": "89xUHH5tWTbK",
        "outputId": "d782f73b-d0d5-40b1-8eb5-5369fded1ff2"
      },
      "execution_count": null,
      "outputs": [
        {
          "output_type": "execute_result",
          "data": {
            "text/plain": [
              "[<matplotlib.lines.Line2D at 0x7fdfd9bf0ed0>]"
            ]
          },
          "metadata": {},
          "execution_count": 3
        },
        {
          "output_type": "display_data",
          "data": {
            "text/plain": [
              "<Figure size 432x288 with 1 Axes>"
            ],
            "image/png": "[encoded data removed]"
          },
          "metadata": {
            "needs_background": "light"
          }
        }
      ]
    },
    {
      "cell_type": "code",
      "source": [
        "###############\n",
        "# Polar Biphase - Manchester\n",
        "###############\n",
        "\n",
        "data = [0, 1, 0, 0, 1, 1]\n",
        "final_data = []\n",
        "\n",
        "# simulating Manchester technique \n",
        "for i in range(len(data)):\n",
        "  final_data.append(data[i])\n",
        "  if (data[i] == 0):\n",
        "    final_data.append(1)\n",
        "  else:\n",
        "    final_data.append(0)\n",
        "\n",
        "# here 0 indicate positive voltage and 1 indicate \n",
        "# negative voltage level\n",
        "for i in range(len(final_data)):\n",
        "  if (final_data[i] == 0):\n",
        "    final_data[i] = 1\n",
        "  else:\n",
        "    final_data[i] = -1\n",
        "\n",
        "# inserting 0 at position 0 to make\n",
        "# the plot nicer\n",
        "final_data.insert(0, 0)\n",
        "\n",
        "plt.xlabel(\"time\")\n",
        "plt.ylabel(\"Manchester\")\n",
        "plt.plot(final_data, color=\"blue\", drawstyle=\"steps-pre\")"
      ],
      "metadata": {
        "colab": {
          "base_uri": "https://localhost:8080/",
          "height": 296
        },
        "id": "1PUOUUDibJtr",
        "outputId": "916a815b-87f9-46f8-bc10-21c5fce43794"
      },
      "execution_count": 12,
      "outputs": [
        {
          "output_type": "execute_result",
          "data": {
            "text/plain": [
              "[<matplotlib.lines.Line2D at 0x7fa6621d7150>]"
            ]
          },
          "metadata": {},
          "execution_count": 12
        },
        {
          "output_type": "display_data",
          "data": {
            "text/plain": [
              "<Figure size 432x288 with 1 Axes>"
            ],
            "image/png": "[encoded data removed]"
          },
          "metadata": {
            "needs_background": "light"
          }
        }
      ]
    },
    {
      "cell_type": "code",
      "source": [
        "#################\n",
        "# Polar biphase: Differential Manchester\n",
        "#################\n",
        "\n",
        "# data bits\n",
        "data = [0, 1, 0, 0, 1, 1]\n",
        "final_data = []\n",
        "\n",
        "# assume positive original level\n",
        "prev_f = 1\n",
        "prev_s = 0\n",
        "\n",
        "for i in range(len(data)):\n",
        "  if (data[i] == 0):\n",
        "    # next bit is 0, so perform inversion\n",
        "    final_data.append(prev_f)\n",
        "    final_data.append(prev_s)\n",
        "  else:\n",
        "    # next bit is 1, no inversion\n",
        "    final_data.append(prev_s)\n",
        "    final_data.append(prev_f)\n",
        "\n",
        "    # swapping bits\n",
        "    temp = prev_f\n",
        "    prev_f = prev_s\n",
        "    prev_s = temp\n",
        "\n",
        "# assign positive voltage level to bit 0 and\n",
        "# negative voltage level to bit 1\n",
        "for i in range(len(final_data)):\n",
        "  if (final_data[i] == 0):\n",
        "    final_data[i] = 1\n",
        "  else:\n",
        "    final_data[i] = -1\n",
        "\n",
        "# inserting 0 at position 0 for beautifying plot\n",
        "final_data.insert(0, 0)\n",
        "plt.xlabel(\"time\")\n",
        "plt.ylabel(\"Differential-Manchester\")\n",
        "plt.plot(final_data, color=\"blue\", drawstyle=\"steps-pre\")"
      ],
      "metadata": {
        "colab": {
          "base_uri": "https://localhost:8080/",
          "height": 296
        },
        "id": "0_ttOH4du1jl",
        "outputId": "516b745a-3434-4bf3-f76b-c302f79e92ab"
      },
      "execution_count": 13,
      "outputs": [
        {
          "output_type": "execute_result",
          "data": {
            "text/plain": [
              "[<matplotlib.lines.Line2D at 0x7fa662149a10>]"
            ]
          },
          "metadata": {},
          "execution_count": 13
        },
        {
          "output_type": "display_data",
          "data": {
            "text/plain": [
              "<Figure size 432x288 with 1 Axes>"
            ],
            "image/png": "[encoded data removed]"
          },
          "metadata": {
            "needs_background": "light"
          }
        }
      ]
    }
  ]
}
