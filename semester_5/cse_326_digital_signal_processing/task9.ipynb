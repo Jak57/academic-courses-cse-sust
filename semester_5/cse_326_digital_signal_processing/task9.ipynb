{
  "nbformat": 4,
  "nbformat_minor": 0,
  "metadata": {
    "colab": {
      "name": "task9.ipynb",
      "provenance": [],
      "collapsed_sections": []
    },
    "kernelspec": {
      "name": "python3",
      "display_name": "Python 3"
    },
    "language_info": {
      "name": "python"
    }
  },
  "cells": [
    {
      "cell_type": "code",
      "execution_count": null,
      "metadata": {
        "colab": {
          "base_uri": "https://localhost:8080/"
        },
        "id": "8tCNOzNC8upw",
        "outputId": "0ec007d6-b705-41a3-c788-8d86d0ccff1e"
      },
      "outputs": [
        {
          "output_type": "stream",
          "name": "stdout",
          "text": [
            "(5, 2)\n"
          ]
        }
      ],
      "source": [
        "\"\"\"\n",
        "Compute the Fast Fourier Transform (FFT) using divide and conquer approach (e.g N=2 x\n",
        "N/2).\n",
        "\"\"\"\n",
        "\n",
        "import numpy as np\n",
        "import matplotlib.pyplot as plt\n",
        "\n",
        "import numpy as np\n",
        "def N_point_DFT(x):\n",
        "    N = len(x)\n",
        "    n = np.arange(N)\n",
        "    k = n.reshape((N,1))\n",
        "    twidller_mat = np.zeros((n*k).shape, dtype=np.complex64)\n",
        "    twiddler_mat = np.exp((-2j*np.pi*n*k)/N)\n",
        "    \n",
        "    dft_X = np.dot(twiddler_mat,x)\n",
        "    \n",
        "    return np.round(dft_X)\n",
        "\n",
        "def factors(x):\n",
        "  result = []\n",
        "  for i in range(1, x+1):\n",
        "    if (x%i == 0):\n",
        "      result.append(i)\n",
        "  \n",
        "  fact = result[len(result)//2]\n",
        "  ans = x//fact\n",
        "  return fact, ans\n",
        "\n",
        "y = factors(10)\n",
        "print(y)"
      ]
    },
    {
      "cell_type": "code",
      "source": [
        "def divide_conquer_dft(x):\n",
        "    N = len(x)\n",
        "    L, M = factors(N)\n",
        "    new_x = x.reshape((M,L)).T\n",
        "    dft = np.apply_along_axis(N_point_DFT, axis=1, arr=new_x)\n",
        "    k = np.arange(M)\n",
        "    n = (np.arange(L)).reshape((L,1))\n",
        "    twiddler_mat = np.exp((-2j*np.pi*k*n)/N)\n",
        "    x_W = dft*twiddler_mat\n",
        "    final_dft = np.zeros(x_W.shape, dtype=np.complex64)\n",
        "    for i in range(M):\n",
        "        final_dft[:,i] = N_point_DFT(x_W[:,i])\n",
        "        \n",
        "    return final_dft.flatten()"
      ],
      "metadata": {
        "id": "3MMAMxcrAvyg"
      },
      "execution_count": null,
      "outputs": []
    },
    {
      "cell_type": "code",
      "source": [
        "x = np.array([0,1,2,3])\n",
        "ans = divide_conquer_dft(x)\n",
        "print(ans)"
      ],
      "metadata": {
        "colab": {
          "base_uri": "https://localhost:8080/"
        },
        "id": "Qs9beWrpCSzF",
        "outputId": "71f14a6e-a994-4796-f2ba-e60a14fdd633"
      },
      "execution_count": null,
      "outputs": [
        {
          "output_type": "stream",
          "name": "stdout",
          "text": [
            "[ 6.+0.j -2.+2.j -2.-0.j -2.-2.j]\n"
          ]
        }
      ]
    }
  ]
}