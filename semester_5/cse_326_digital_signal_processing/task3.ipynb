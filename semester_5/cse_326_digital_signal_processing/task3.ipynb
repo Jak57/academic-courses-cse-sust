{
  "nbformat": 4,
  "nbformat_minor": 0,
  "metadata": {
    "colab": {
      "name": "task3.ipynb",
      "provenance": []
    },
    "kernelspec": {
      "name": "python3",
      "display_name": "Python 3"
    },
    "language_info": {
      "name": "python"
    }
  },
  "cells": [
    {
      "cell_type": "code",
      "execution_count": null,
      "metadata": {
        "colab": {
          "base_uri": "https://localhost:8080/",
          "height": 337
        },
        "id": "sV4bc4xANy8w",
        "outputId": "e8748f4c-dae7-4f6a-97a5-977154faf066"
      },
      "outputs": [
        {
          "output_type": "stream",
          "name": "stdout",
          "text": [
            "[-1, -1, 1, 7, 9, 5, 1]\n"
          ]
        },
        {
          "output_type": "stream",
          "name": "stderr",
          "text": [
            "/usr/local/lib/python3.7/dist-packages/ipykernel_launcher.py:27: UserWarning: In Matplotlib 3.3 individual lines on a stem plot will be added as a LineCollection instead of individual lines. This significantly improves the performance of a stem plot. To remove this warning and switch to the new behaviour, set the \"use_line_collection\" keyword argument to True.\n"
          ]
        },
        {
          "output_type": "execute_result",
          "data": {
            "text/plain": [
              "<StemContainer object of 3 artists>"
            ]
          },
          "metadata": {},
          "execution_count": 4
        },
        {
          "output_type": "display_data",
          "data": {
            "text/plain": [
              "<Figure size 432x288 with 1 Axes>"
            ],
            "image/png": "[encoded data removed]"
          },
          "metadata": {
            "needs_background": "light"
          }
        }
      ],
      "source": [
        "############\n",
        "# Cross correlation\n",
        "############\n",
        "\n",
        "import matplotlib.pyplot as plt\n",
        "\n",
        "x = [1, 2, 3, 1]\n",
        "h = [1, 2, 1, -1]\n",
        "h_flip = []\n",
        "\n",
        "# flipping h\n",
        "i = len(h)-1\n",
        "while(i >= 0):\n",
        "  h_flip.append(h[i])\n",
        "  i -= 1\n",
        "\n",
        "y = []\n",
        "for i in range(len(x)+len(h)-1):\n",
        "  y.append(0)\n",
        "\n",
        "# performing cross correlation\n",
        "for i in range(len(x)):\n",
        "  for j in range(len(h)):\n",
        "    y[i+j] += (x[i] * h_flip[j])\n",
        "\n",
        "print(y)\n",
        "plt.stem(y)\n",
        "\n",
        "\n",
        "\n"
      ]
    }
  ]
}