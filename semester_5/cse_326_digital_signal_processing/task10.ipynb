{
  "nbformat": 4,
  "nbformat_minor": 0,
  "metadata": {
    "colab": {
      "name": "task10.ipynb",
      "provenance": []
    },
    "kernelspec": {
      "name": "python3",
      "display_name": "Python 3"
    },
    "language_info": {
      "name": "python"
    }
  },
  "cells": [
    {
      "cell_type": "code",
      "execution_count": null,
      "metadata": {
        "colab": {
          "base_uri": "https://localhost:8080/",
          "height": 265
        },
        "id": "a8VN_j2TIGM8",
        "outputId": "398701d0-5c29-4840-f568-bcc9eba46bd7"
      },
      "outputs": [
        {
          "output_type": "display_data",
          "data": {
            "text/plain": [
              "<Figure size 432x288 with 1 Axes>"
            ],
            "image/png": "[encoded data removed]"
          },
          "metadata": {
            "needs_background": "light"
          }
        }
      ],
      "source": [
        "\"\"\"\n",
        "Compute the FFT of a given signal with N = 8 using Radix-2 algorithm\n",
        "\"\"\"\n",
        "\n",
        "import numpy as np\n",
        "import matplotlib.pyplot as plt\n",
        "\n",
        "# sampling rate\n",
        "sr = 8\n",
        "\n",
        "# sampling interval\n",
        "ts = 1.0/sr\n",
        "# x cordinate values \n",
        "# distance from 0 to 1 is divided into 128\n",
        "# equidistant points\n",
        "t = np.arange(0, 1, ts)\n",
        "\n",
        "# frequency\n",
        "freq = 1\n",
        "x = 3*np.sin(2*np.pi*freq*t)\n",
        "\n",
        "freq = 4\n",
        "x += np.sin(2*np.pi*freq*t)\n",
        "\n",
        "freq = 7\n",
        "x += 0.5*np.sin(2*np.pi*freq*t)\n",
        "\n",
        "# first argument is t and second argument is\n",
        "# x, so t will be from 0 to 1\n",
        "# third argument specify color of plot\n",
        "\n",
        "plt.ylabel('Amplitude')\n",
        "plt.plot(t, x, 'r')\n",
        "plt.show()"
      ]
    },
    {
      "cell_type": "code",
      "source": [
        "def FFT(x):\n",
        "  \"\"\"\n",
        "  A recursive implementation of 1D Cooley-Tukey FFT,\n",
        "  the input should have a length of power of 2\n",
        "  \"\"\"\n",
        "\n",
        "  N = len(x)\n",
        "  if (N == 1):\n",
        "    return x\n",
        "  else:\n",
        "    X_evens = FFT(x[::2])\n",
        "    X_odds = FFT(x[1::2])\n",
        "\n",
        "    factor = np.exp(-1j * 2 * np.pi * np.arange(N) / N)\n",
        "    X = np.concatenate([X_evens + factor[:int(N/2)] * X_odds, X_evens + factor[int(N/2):] * X_odds])\n",
        "\n",
        "    return X\n",
        "\n",
        "X = FFT(x)\n",
        "# calculating frequency\n",
        "N = len(X)\n",
        "n = np.arange(N)\n",
        "T = N/sr\n",
        "freq = n/T\n",
        "\n",
        "plt.stem(freq, abs(X))\n",
        "\n"
      ],
      "metadata": {
        "colab": {
          "base_uri": "https://localhost:8080/",
          "height": 320
        },
        "id": "FpWfOQ9uJ9eY",
        "outputId": "41e6cba2-ec4c-47ea-8b09-927a6085abf3"
      },
      "execution_count": null,
      "outputs": [
        {
          "output_type": "stream",
          "name": "stderr",
          "text": [
            "/usr/local/lib/python3.7/dist-packages/ipykernel_launcher.py:26: UserWarning: In Matplotlib 3.3 individual lines on a stem plot will be added as a LineCollection instead of individual lines. This significantly improves the performance of a stem plot. To remove this warning and switch to the new behaviour, set the \"use_line_collection\" keyword argument to True.\n"
          ]
        },
        {
          "output_type": "execute_result",
          "data": {
            "text/plain": [
              "<StemContainer object of 3 artists>"
            ]
          },
          "metadata": {},
          "execution_count": 10
        },
        {
          "output_type": "display_data",
          "data": {
            "text/plain": [
              "<Figure size 432x288 with 1 Axes>"
            ],
            "image/png": "[encoded data removed]"
          },
          "metadata": {
            "needs_background": "light"
          }
        }
      ]
    }
  ]
}