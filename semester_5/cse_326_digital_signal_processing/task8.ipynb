{
  "nbformat": 4,
  "nbformat_minor": 0,
  "metadata": {
    "colab": {
      "name": "task8.ipynb",
      "provenance": [],
      "collapsed_sections": []
    },
    "kernelspec": {
      "name": "python3",
      "display_name": "Python 3"
    },
    "language_info": {
      "name": "python"
    }
  },
  "cells": [
    {
      "cell_type": "code",
      "execution_count": 1,
      "metadata": {
        "id": "jqNR8iwnSmKs",
        "colab": {
          "base_uri": "https://localhost:8080/"
        },
        "outputId": "b1e36932-b998-443f-abaa-ee0f4d355dca"
      },
      "outputs": [
        {
          "output_type": "stream",
          "name": "stdout",
          "text": [
            "[ 6.00000000e+00+0.00000000e+00j  4.44089210e-16-3.46410162e+00j\n",
            " -4.44089210e-16-4.21204455e-16j  0.00000000e+00-1.22464680e-16j\n",
            "  6.66133815e-16-1.06445351e-15j  4.44089210e-16+3.46410162e+00j]\n"
          ]
        }
      ],
      "source": [
        "\"\"\"\n",
        "By means of DFT and IDFT, determine the responses of the FIR filter\n",
        "with impulse response h(n) to the input sequence x(n)\n",
        "\"\"\"\n",
        "\n",
        "import numpy as np\n",
        "import matplotlib.pyplot as plt\n",
        "\n",
        "# impulse response\n",
        "h = [1, 2, 3]\n",
        "# input signal\n",
        "x = [1, 2, 2, 1]\n",
        "\n",
        "N = len(h) + len(x) - 1\n",
        "X = np.zeros(N, dtype = complex)\n",
        "\n",
        "# calculating DFT of x[n]\n",
        "for k in range(N):\n",
        "  for n in range(len(x)):\n",
        "    X[k] += (x[n] * np.exp(-2j*np.pi*k*n/N))\n",
        "\n",
        "print(X)\n"
      ]
    },
    {
      "cell_type": "code",
      "source": [
        "# calculating DFT of h[n]\n",
        "H = np.zeros(N, dtype=complex)\n",
        "\n",
        "for k in range(N):\n",
        "  for n in range(len(h)):\n",
        "    H[k] += (h[n] * np.exp(-2j*np.pi*k*n/N))\n",
        "\n",
        "print(H)\n",
        "\n",
        "# calculating X[N] * H[N]\n",
        "\n",
        "Y = np.zeros(N, dtype=complex)\n",
        "\n",
        "for k in range(N):\n",
        "  Y[k] = X[k] * H[k]"
      ],
      "metadata": {
        "colab": {
          "base_uri": "https://localhost:8080/"
        },
        "id": "rzkNF1Lwl7x1",
        "outputId": "299f3bbc-8f37-4098-cd22-0f35b5bb3e28"
      },
      "execution_count": 2,
      "outputs": [
        {
          "output_type": "stream",
          "name": "stdout",
          "text": [
            "[ 6. +0.00000000e+00j  0.5-4.33012702e+00j -1.5+8.66025404e-01j\n",
            "  2. +4.89858720e-16j -1.5-8.66025404e-01j  0.5+4.33012702e+00j]\n"
          ]
        }
      ]
    },
    {
      "cell_type": "code",
      "source": [
        "# calculating IDFT of Y[n]\n",
        "\n",
        "y = np.zeros(N, dtype=complex)\n",
        "\n",
        "for n in range(N):\n",
        "  for k in range(N):\n",
        "    y[n] += (Y[k] * np.exp(2j*np.pi*k*n/N))\n",
        "  y[n] /= N\n",
        "\n",
        "print(y)\n",
        "plt.stem(y[1:N+1])"
      ],
      "metadata": {
        "colab": {
          "base_uri": "https://localhost:8080/",
          "height": 441
        },
        "id": "GuPIiVOAPr3E",
        "outputId": "95ce7c56-9ba8-4f13-ee85-10f8b1fc249b"
      },
      "execution_count": 3,
      "outputs": [
        {
          "output_type": "stream",
          "name": "stdout",
          "text": [
            "[ 1.-1.11022302e-16j  4.-1.77635684e-15j  9.-1.77635684e-15j\n",
            " 11.-5.69914486e-15j  8.+1.77635684e-15j  3.-1.48029737e-15j]\n"
          ]
        },
        {
          "output_type": "stream",
          "name": "stderr",
          "text": [
            "/usr/local/lib/python3.7/dist-packages/ipykernel_launcher.py:11: UserWarning: In Matplotlib 3.3 individual lines on a stem plot will be added as a LineCollection instead of individual lines. This significantly improves the performance of a stem plot. To remove this warning and switch to the new behaviour, set the \"use_line_collection\" keyword argument to True.\n",
            "  # This is added back by InteractiveShellApp.init_path()\n",
            "/usr/local/lib/python3.7/dist-packages/matplotlib/cbook/__init__.py:1317: ComplexWarning: Casting complex values to real discards the imaginary part\n",
            "  return np.asarray(x, float)\n",
            "/usr/local/lib/python3.7/dist-packages/matplotlib/cbook/__init__.py:1317: ComplexWarning: Casting complex values to real discards the imaginary part\n",
            "  return np.asarray(x, float)\n"
          ]
        },
        {
          "output_type": "execute_result",
          "data": {
            "text/plain": [
              "<StemContainer object of 3 artists>"
            ]
          },
          "metadata": {},
          "execution_count": 3
        },
        {
          "output_type": "display_data",
          "data": {
            "text/plain": [
              "<Figure size 432x288 with 1 Axes>"
            ],
            "image/png": "[encoded data removed]"
          },
          "metadata": {
            "needs_background": "light"
          }
        }
      ]
    }
  ]
}