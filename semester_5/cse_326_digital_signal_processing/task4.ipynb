{
  "nbformat": 4,
  "nbformat_minor": 0,
  "metadata": {
    "colab": {
      "name": "task4.ipynb",
      "provenance": []
    },
    "kernelspec": {
      "name": "python3",
      "display_name": "Python 3"
    },
    "language_info": {
      "name": "python"
    }
  },
  "cells": [
    {
      "cell_type": "code",
      "execution_count": null,
      "metadata": {
        "colab": {
          "base_uri": "https://localhost:8080/",
          "height": 337
        },
        "id": "tOR2cUwrQWMR",
        "outputId": "da8afd81-389b-400b-d6f5-1a280dee0300"
      },
      "outputs": [
        {
          "output_type": "stream",
          "name": "stdout",
          "text": [
            "[1, 5, 11, 15, 11, 5, 1]\n"
          ]
        },
        {
          "output_type": "stream",
          "name": "stderr",
          "text": [
            "/usr/local/lib/python3.7/dist-packages/ipykernel_launcher.py:26: UserWarning: In Matplotlib 3.3 individual lines on a stem plot will be added as a LineCollection instead of individual lines. This significantly improves the performance of a stem plot. To remove this warning and switch to the new behaviour, set the \"use_line_collection\" keyword argument to True.\n"
          ]
        },
        {
          "output_type": "execute_result",
          "data": {
            "text/plain": [
              "<StemContainer object of 3 artists>"
            ]
          },
          "metadata": {},
          "execution_count": 2
        },
        {
          "output_type": "display_data",
          "data": {
            "text/plain": [
              "<Figure size 432x288 with 1 Axes>"
            ],
            "image/png": "[encoded data removed]"
          },
          "metadata": {
            "needs_background": "light"
          }
        }
      ],
      "source": [
        "############\n",
        "# Autocorrelation\n",
        "############\n",
        "\n",
        "import matplotlib.pyplot as plt\n",
        "\n",
        "x = [1, 2, 3, 1]\n",
        "x_flip = []\n",
        "i = len(x)-1\n",
        "\n",
        "# flipping x\n",
        "while (i >= 0):\n",
        "  x_flip.append(x[i])\n",
        "  i -= 1\n",
        "\n",
        "y = []\n",
        "for i in range(len(x)+len(x_flip)-1):\n",
        "  y.append(0)\n",
        "\n",
        "# performing autocorrelation\n",
        "for i in range(len(x)):\n",
        "  for j in range(len(x_flip)):\n",
        "    y[i+j] += (x[i] * x_flip[j])\n",
        "\n",
        "print(y)\n",
        "plt.stem(y)\n"
      ]
    }
  ]
}